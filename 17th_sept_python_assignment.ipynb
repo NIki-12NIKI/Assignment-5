{
 "cells": [
  {
   "cell_type": "code",
   "execution_count": 1,
   "id": "409c860a-b24b-44f8-8005-285e5d884e25",
   "metadata": {},
   "outputs": [
    {
     "name": "stdout",
     "output_type": "stream",
     "text": [
      "1\n",
      "2\n",
      "3\n",
      "4\n",
      "5\n",
      "6\n",
      "7\n",
      "8\n",
      "9\n",
      "10\n"
     ]
    }
   ],
   "source": [
    "#Write a Python program to print numbers from 1 to 10 using a for loop.\n",
    "\n",
    "for i in range(1, 11):\n",
    "    print(i)"
   ]
  },
  {
   "cell_type": "code",
   "execution_count": 4,
   "id": "e26ff801-657e-493f-b049-2fb217e19e24",
   "metadata": {},
   "outputs": [
    {
     "name": "stdout",
     "output_type": "stream",
     "text": [
      "1\n",
      "2\n",
      "3\n",
      "4\n"
     ]
    }
   ],
   "source": [
    "#Explain the difference between a for loop and a while loop in Python.\n",
    "\n",
    "\"\"\"WE use a for loop when you know the number of iterations or have a\n",
    "sequence to iterate over, and use a while loop when the number of iterations is determined by a condition.\"\"\"\n",
    "for i in range(1, 5):\n",
    "    print(i)\n"
   ]
  },
  {
   "cell_type": "code",
   "execution_count": 5,
   "id": "2197b9b8-4052-47ec-bf68-4b31b7a9b487",
   "metadata": {},
   "outputs": [
    {
     "name": "stdout",
     "output_type": "stream",
     "text": [
      "1\n",
      "2\n",
      "3\n",
      "4\n",
      "5\n"
     ]
    }
   ],
   "source": [
    "count = 1\n",
    "while count <= 5:\n",
    "    print(count)\n",
    "    count += 1"
   ]
  },
  {
   "cell_type": "code",
   "execution_count": 7,
   "id": "7c92dfeb-f1d6-4d96-9b09-8ef86b5627ca",
   "metadata": {},
   "outputs": [
    {
     "name": "stdout",
     "output_type": "stream",
     "text": [
      "sum of 100 numbers :  5050\n"
     ]
    }
   ],
   "source": [
    "#Write a Python program to calculate the sum of all numbers from 1 to 100 using a for loop.\n",
    "sum = 0\n",
    "for i in range(1, 101):\n",
    "    sum = sum + i\n",
    "    \n",
    "print(\"sum of 100 numbers : \",sum)"
   ]
  },
  {
   "cell_type": "code",
   "execution_count": 8,
   "id": "db1c2ff7-2c4c-4629-a9a8-8e1c076a5725",
   "metadata": {},
   "outputs": [
    {
     "name": "stdout",
     "output_type": "stream",
     "text": [
      "1\n",
      "2\n",
      "3\n",
      "4\n",
      "5\n"
     ]
    }
   ],
   "source": [
    "#How do you iterate through a list using a for loop in Python?\n",
    "my_list = [1, 2, 3, 4, 5]\n",
    "\n",
    "for element in my_list:\n",
    "    print(element)"
   ]
  },
  {
   "cell_type": "code",
   "execution_count": 10,
   "id": "3349edd1-a254-4f47-86ff-5c4721fd6bf2",
   "metadata": {},
   "outputs": [
    {
     "name": "stdout",
     "output_type": "stream",
     "text": [
      "Product of numbers 120\n"
     ]
    }
   ],
   "source": [
    "#Write a Python program to find the product of all elements in a list using a for loop.\n",
    "my_list = [1, 2, 3, 4, 5]\n",
    "product = 1\n",
    "for element in my_list:\n",
    "    product  = product * element\n",
    "    \n",
    "print(\"Product of numbers\",product)"
   ]
  },
  {
   "cell_type": "code",
   "execution_count": 17,
   "id": "82c7223b-8f74-4ad5-ab9c-b570842be729",
   "metadata": {},
   "outputs": [
    {
     "name": "stdout",
     "output_type": "stream",
     "text": [
      "2\n",
      "4\n",
      "6\n",
      "8\n",
      "10\n",
      "12\n",
      "14\n",
      "16\n",
      "18\n",
      "20\n"
     ]
    }
   ],
   "source": [
    "#Create a Python program that prints all even numbers from 1 to 20 using a for loop\n",
    "for i in range(1,21):\n",
    "    if i % 2 == 0:\n",
    "        print(i)"
   ]
  },
  {
   "cell_type": "code",
   "execution_count": 26,
   "id": "e54a401c-5a20-47ba-a73d-cdffc7993c32",
   "metadata": {},
   "outputs": [
    {
     "name": "stdin",
     "output_type": "stream",
     "text": [
      "Enter a number whose fact is to be aclculated : 34\n"
     ]
    },
    {
     "name": "stdout",
     "output_type": "stream",
     "text": [
      "295232799039604140847618609643520000000\n"
     ]
    }
   ],
   "source": [
    "#Write a Python program that calculates the factorial of a number using a for loop.\n",
    "\n",
    "fact_num = int(input(\"Enter a number whose fact is to be aclculated :\"))\n",
    "fact = 1\n",
    "if fact_num < 0:\n",
    "    print(\"please enter positive number\")\n",
    "else:\n",
    "    for i in range(1,fact_num+1):\n",
    "        fact *= i\n",
    "    print(fact)"
   ]
  },
  {
   "cell_type": "code",
   "execution_count": 30,
   "id": "b3437f64-b8ef-4144-b25a-b63b31fefc21",
   "metadata": {},
   "outputs": [
    {
     "name": "stdout",
     "output_type": "stream",
     "text": [
      "n\n",
      "i\n",
      "k\n",
      "i\n",
      "t\n",
      "a\n"
     ]
    }
   ],
   "source": [
    "#How can you iterate through the characters of a string using a for loop in Python?\n",
    "str = \"nikita\"\n",
    "for char in str:\n",
    "    print(char)\n"
   ]
  },
  {
   "cell_type": "code",
   "execution_count": 36,
   "id": "8129c884-e32a-45a5-8adf-e61605d3ef7d",
   "metadata": {},
   "outputs": [
    {
     "name": "stdout",
     "output_type": "stream",
     "text": [
      "The largest number in the list is: 89\n"
     ]
    }
   ],
   "source": [
    "# Python program to find the largest number in a list using a for loop\n",
    "my_list = [12, 45, 78, 23, 56, 89, 34]\n",
    "\n",
    "# Initialize the variable to store the largest number\n",
    "largest_number = my_list[0]\n",
    "for number in my_list:\n",
    "    if number > largest_number:\n",
    "        largest_number = number\n",
    "print(\"The largest number in the list is:\", largest_number)\n",
    "\n"
   ]
  },
  {
   "cell_type": "code",
   "execution_count": 44,
   "id": "f3f31b41-3f0a-464d-a9e9-64a0552fe0ca",
   "metadata": {},
   "outputs": [
    {
     "name": "stdin",
     "output_type": "stream",
     "text": [
      "enter limit : 3\n"
     ]
    },
    {
     "name": "stdout",
     "output_type": "stream",
     "text": [
      "Fibonacci sequence up to limit 3 : [0, 1, 1, 2]\n"
     ]
    }
   ],
   "source": [
    "#Create a Python program that prints the Fibonacci sequence up to a specified limit using a for loop\n",
    "n = int(input(\"enter limit :\"))\n",
    "fibonacci_sequence = [0,1]\n",
    "for i in range(2,n+1):\n",
    "    fib = fibonacci_sequence[-1] + fibonacci_sequence[-2]\n",
    "    fibonacci_sequence.append(fib)\n",
    "\n",
    "print(\"Fibonacci sequence up to limit\", n, \":\", fibonacci_sequence)"
   ]
  },
  {
   "cell_type": "code",
   "execution_count": 3,
   "id": "db31bd95-b0a3-4750-b187-9d9417b8f35d",
   "metadata": {},
   "outputs": [
    {
     "name": "stdout",
     "output_type": "stream",
     "text": [
      "e\n",
      "e\n",
      "i\n",
      "o\n"
     ]
    }
   ],
   "source": [
    "#Write a Python program to count the number of vowels in a given string using a for loop.\n",
    "\n",
    "vowels = ['a','e','i','o','u','A','E','I','O','U']\n",
    "str = 'regression'\n",
    "for i in str:\n",
    "    if i in vowels:\n",
    "        print(i)"
   ]
  },
  {
   "cell_type": "code",
   "execution_count": 1,
   "id": "25375b6a-4dc9-4200-93a3-6c47b8428844",
   "metadata": {},
   "outputs": [
    {
     "name": "stdin",
     "output_type": "stream",
     "text": [
      "Enter the number of which the user wants to print the multiplication table:  5\n"
     ]
    },
    {
     "name": "stdout",
     "output_type": "stream",
     "text": [
      "The Multiplication Table of:  5\n",
      "5 x 1 = 5\n",
      "5 x 2 = 10\n",
      "5 x 3 = 15\n",
      "5 x 4 = 20\n",
      "5 x 5 = 25\n",
      "5 x 6 = 30\n",
      "5 x 7 = 35\n",
      "5 x 8 = 40\n",
      "5 x 9 = 45\n",
      "5 x 10 = 50\n"
     ]
    }
   ],
   "source": [
    "#Create a Python program that generates a multiplication table for a given number using a for loop.\n",
    "number = int(input (\"Enter the number of which the user wants to print the multiplication table: \"))    \n",
    "print (\"The Multiplication Table of: \", number)    \n",
    "for count in range(1, 11):      \n",
    "   print (number,'x', count, '=', number * count) "
   ]
  },
  {
   "cell_type": "code",
   "execution_count": 4,
   "id": "0272b537-2065-46fa-b9dc-16d7e3a6abfb",
   "metadata": {},
   "outputs": [
    {
     "name": "stdout",
     "output_type": "stream",
     "text": [
      "Original List: [1, 2, 3, 4, 5]\n",
      "Reversed List: [5, 4, 3, 2, 1]\n"
     ]
    }
   ],
   "source": [
    "#Write a Python program to reverse a list using a for loop.\n",
    "\n",
    "def reverse_list(input_list):\n",
    "    reversed_list = []\n",
    "    for item in reversed(input_list):\n",
    "        reversed_list.append(item)\n",
    "\n",
    "    return reversed_list\n",
    "original_list = [1, 2, 3, 4, 5]\n",
    "reversed_result = reverse_list(original_list)\n",
    "\n",
    "print(\"Original List:\", original_list)\n",
    "print(\"Reversed List:\", reversed_result)\n"
   ]
  },
  {
   "cell_type": "code",
   "execution_count": 7,
   "id": "478648b8-678a-46a9-a7bf-651622fcd73e",
   "metadata": {},
   "outputs": [
    {
     "name": "stdout",
     "output_type": "stream",
     "text": [
      "List1: [1, 3, 5, 7, 8]\n",
      "List2: [6, 7, 9, 0, 1]\n",
      "Common elements [1, 7]\n"
     ]
    }
   ],
   "source": [
    "#Write a Python program to find the common elements between two lists using a for loop.\n",
    "def find_common_elements(list1,list2):\n",
    "    \n",
    "\n",
    "    common_elements = []\n",
    "    for item in list1:\n",
    "        if item in list2:\n",
    "            common_elements.append(item)\n",
    "    return common_elements\n",
    "\n",
    "list1 = [1,3,5,7,8]\n",
    "list2 = [6,7,9,0,1]\n",
    "result = find_common_elements(list1,list2)\n",
    "print(\"List1:\",list1)\n",
    "print(\"List2:\",list2)\n",
    "print(\"Common elements\",result)"
   ]
  },
  {
   "cell_type": "code",
   "execution_count": 8,
   "id": "b23e6b31-9a0b-4c03-8dfd-3f1a2d42d5f7",
   "metadata": {},
   "outputs": [
    {
     "name": "stdout",
     "output_type": "stream",
     "text": [
      "key : a,value : 1\n",
      "key : b,value : 3\n",
      "key : c,value : 4\n"
     ]
    }
   ],
   "source": [
    "#Explain how to use a for loop to iterate through the keys and values of a dictionary in Python.\n",
    "my_dict = {'a':1,'b':3,'c':4}\n",
    "for key,value in my_dict.items():\n",
    "    print(f\"key : {key},value : {value}\")\n"
   ]
  },
  {
   "cell_type": "code",
   "execution_count": 17,
   "id": "194976f8-a701-419d-ad76-7e5b64006e71",
   "metadata": {},
   "outputs": [
    {
     "name": "stdout",
     "output_type": "stream",
     "text": [
      "GCD of 36 and 90 is 18\n"
     ]
    }
   ],
   "source": [
    "#Write a Python program to find the GCD (Greatest Common Divisor) of two numbers using a for loop.\n",
    "num1 = 36\n",
    "num2 = 90\n",
    "gcd = 1\n",
    " \n",
    "for i in range(1, min(num1, num2)):\n",
    "    if num1 % i == 0 and num2 % i == 0:\n",
    "        gcd = i\n",
    "print(\"GCD of\", num1, \"and\", num2, \"is\", gcd)\n"
   ]
  },
  {
   "cell_type": "code",
   "execution_count": 24,
   "id": "31d91dee-2882-4eb0-9cb4-291647cf5ef5",
   "metadata": {},
   "outputs": [
    {
     "name": "stdout",
     "output_type": "stream",
     "text": [
      "Yes\n"
     ]
    }
   ],
   "source": [
    "#Create a Python program that checks if a string is a palindrome using a for loop.\n",
    "def is_palindromic(str):\n",
    "    return str == str[::-1]\n",
    "s= \"radar\"\n",
    "ans = is_palindromic(s)\n",
    " \n",
    "if ans:\n",
    "    print(\"Yes\")\n",
    "else:\n",
    "    print(\"No\")\n",
    "    \n",
    "    \n",
    "    "
   ]
  },
  {
   "cell_type": "code",
   "execution_count": 32,
   "id": "a4ebef00-dd46-4d73-9de3-f5efc7eaa71b",
   "metadata": {},
   "outputs": [
    {
     "name": "stdout",
     "output_type": "stream",
     "text": [
      "Original List: [1, 2, 2, 3, 4, 4, 5]\n",
      "List with Duplicates Removed: [1, 2, 3, 4, 5]\n"
     ]
    }
   ],
   "source": [
    "#Write a Python program to remove duplicates from a list using a for loop.\n",
    "def remove_duplicates(input_list):\n",
    "    unique_list = []\n",
    "\n",
    "    # Iterate through the input list\n",
    "    for item in input_list:\n",
    "        # Check if the item is not already in the unique_list\n",
    "        if item not in unique_list:\n",
    "            unique_list.append(item)\n",
    "\n",
    "    return unique_list\n",
    "\n",
    "# Example usage:\n",
    "original_list = [1, 2, 2, 3, 4, 4, 5]\n",
    "result = remove_duplicates(original_list)\n",
    "\n",
    "print(\"Original List:\", original_list)\n",
    "print(\"List with Duplicates Removed:\", result)\n"
   ]
  },
  {
   "cell_type": "code",
   "execution_count": 33,
   "id": "4c0bfefb-b6ec-45c5-8e7f-e498b667fecb",
   "metadata": {},
   "outputs": [
    {
     "name": "stdin",
     "output_type": "stream",
     "text": [
      "enter a sent: you are my best friend\n"
     ]
    },
    {
     "name": "stdout",
     "output_type": "stream",
     "text": [
      "no. of words in sentence :5\n"
     ]
    }
   ],
   "source": [
    "#Create a Python program that counts the number of words in a sentence using a for loop.\n",
    "def count_words(sent):\n",
    "    words = sent.split()\n",
    "    word_count = 0\n",
    "    for word in words:\n",
    "        word_count += 1\n",
    "    return word_count\n",
    "sentence = input(\"enter a sent:\")\n",
    "result = count_words(sentence)\n",
    "print(f\"no. of words in sentence :{result}\")"
   ]
  },
  {
   "cell_type": "code",
   "execution_count": 35,
   "id": "43037f6e-242f-4ae7-9955-a8d33e943e4d",
   "metadata": {},
   "outputs": [
    {
     "name": "stdout",
     "output_type": "stream",
     "text": [
      "sum of odd num  625\n"
     ]
    }
   ],
   "source": [
    "#Write a Python program to find the sum of all odd numbers from 1 to 50 using a for loop.\n",
    "sum = 0\n",
    "for number in range(1,51):\n",
    "    if number % 2 != 0:\n",
    "        sum += number\n",
    "        \n",
    "print(\"sum of odd num \",sum)\n"
   ]
  },
  {
   "cell_type": "code",
   "execution_count": 1,
   "id": "9fea16ca-e74c-40c0-b46e-62a797384403",
   "metadata": {},
   "outputs": [
    {
     "name": "stdin",
     "output_type": "stream",
     "text": [
      "Please enter the year you would like to start checking leap years from. 2000\n",
      "Please enter over how many years you would like to check. 4\n"
     ]
    },
    {
     "name": "stdout",
     "output_type": "stream",
     "text": [
      "2000 Leap year\n",
      "2001 Not a leap year\n",
      "2002 Not a leap year\n",
      "2003 Not a leap year\n"
     ]
    }
   ],
   "source": [
    "#Write a Python program that checks if a given year is a leap year using a for loop.\n",
    "year = int(input(\"Please enter the year you would like to start checking leap years from.\"))\n",
    "total_years = int(input(\"Please enter over how many years you would like to check.\"))\n",
    "leap_year= 0\n",
    "\n",
    "for a in range(total_years):\n",
    "    current_year = year + a  # Calculate the current year in the loop\n",
    "\n",
    "    if (current_year % 4 == 0 and current_year % 100 != 0) or (current_year % 400 == 0):\n",
    "        leap_year_status = \"Leap year\"\n",
    "    else:\n",
    "        leap_year_status = \"Not a leap year\"\n",
    "\n",
    "    print(current_year, leap_year_status)\n"
   ]
  },
  {
   "cell_type": "code",
   "execution_count": 2,
   "id": "e6d6b631-a6ce-4008-9cf1-d35e57ddc769",
   "metadata": {},
   "outputs": [
    {
     "name": "stdout",
     "output_type": "stream",
     "text": [
      "Squares of Odd Numbers between 1 and 10: [1, 9, 25, 49, 81]\n"
     ]
    }
   ],
   "source": [
    "#Create a Python program that calculates the square root of a number using a for loop.\n",
    "squares_of_odd_numbers = [num ** 2 for num in range(1, 11) if num % 2 != 0]\n",
    "\n",
    "# Print the list of squares of odd numbers\n",
    "print(\"Squares of Odd Numbers between 1 and 10:\", squares_of_odd_numbers)"
   ]
  },
  {
   "cell_type": "code",
   "execution_count": 22,
   "id": "af34721b-cdfe-481b-8b9a-9a138294be47",
   "metadata": {},
   "outputs": [
    {
     "name": "stdout",
     "output_type": "stream",
     "text": [
      "LCM of 12 and 14 is 84\n"
     ]
    }
   ],
   "source": [
    "#Write a Python program to find the LCM (Least Common Multiple) of two numbers using a for loop.\n",
    "num1 = 12\n",
    "num2 = 14\n",
    "for i in range(max(num1, num2), 1 + (num1 * num2)):\n",
    "    if i % num1 == i % num2 == 0:\n",
    "        lcm = i\n",
    "        break\n",
    "print(\"LCM of\", num1, \"and\", num2, \"is\", lcm)"
   ]
  },
  {
   "cell_type": "code",
   "execution_count": 23,
   "id": "54f050af-3dec-4f0c-a1e5-f6bac1280c92",
   "metadata": {},
   "outputs": [],
   "source": [
    "# if - else Q.1 to Q.24 covered in 3rd sept assignment question"
   ]
  },
  {
   "cell_type": "code",
   "execution_count": 24,
   "id": "5b64eff1-8b11-41d6-9693-8f541fca8fe7",
   "metadata": {},
   "outputs": [
    {
     "name": "stdout",
     "output_type": "stream",
     "text": [
      "[1, 4, 9, 16, 25]\n"
     ]
    }
   ],
   "source": [
    "#Explain the purpose of the `map()` function in Python and provide an example of how it can be used to apply a function to each element of an iterable.\n",
    "#Write a Python program that uses the `map()` function to square each element of a list of numbers.\n",
    "\n",
    "num = [1,2,3,4,5]\n",
    "def squares(x):\n",
    "    return x ** 2\n",
    "sq_num = map(squares,num)\n",
    "result = list(sq_num)\n",
    "print(result)"
   ]
  },
  {
   "cell_type": "code",
   "execution_count": 1,
   "id": "58b3967e-5366-4d3a-8125-1e90400932b8",
   "metadata": {},
   "outputs": [],
   "source": [
    "#How does the `map()` function differ from a list comprehension in Python, and when would you choose one over the other\n",
    "\n",
    "\n",
    "#--map takes two arguments: the function to apply and the iterable to apply it on.\n",
    "#--list comprehension  have a more compact syntax compared to map().\n",
    "#if you need a concise and readable way to create a list by applying a simple expression to each element, \n",
    "#list comprehensions are often preferred. If you have an existing function that needs to be applied to each element of an iterable,\n",
    "#or if you're working with more general iterable types, map() might be a better choice."
   ]
  },
  {
   "cell_type": "code",
   "execution_count": 2,
   "id": "e1e00354-8908-4b82-9884-34df4de85bb3",
   "metadata": {},
   "outputs": [
    {
     "name": "stdout",
     "output_type": "stream",
     "text": [
      "Originsl names: ['ankit', 'nikita', 'laukik', 'ritu']\n",
      "Uppercase names ['ANKIT', 'NIKITA', 'LAUKIK', 'RITU']\n"
     ]
    }
   ],
   "source": [
    "#Create a Python program that uses the `map()` function to convert a list of names to uppercase.\n",
    "def convert_uppercase(name):\n",
    "    return name.upper()\n",
    "names = ['ankit','nikita','laukik','ritu']\n",
    "upper_ele = map(convert_uppercase,names)\n",
    "result = list(upper_ele)\n",
    "print(\"Originsl names:\",names)\n",
    "print(\"Uppercase names\", result)"
   ]
  },
  {
   "cell_type": "code",
   "execution_count": 8,
   "id": "d2106935-f0d1-4b50-8f7d-710bd98fa1fd",
   "metadata": {},
   "outputs": [
    {
     "name": "stdout",
     "output_type": "stream",
     "text": [
      "[5, 6, 5, 6, 4]\n"
     ]
    }
   ],
   "source": [
    "#Write a Python program that uses the `map()` function to calculate the length of each word in a list of strings.\n",
    "word_list = [\"apple\",\"banana\",\"grape\",\"orange\",\"kiwi\"]\n",
    "def calculate_length(word):\n",
    "    return len(word)\n",
    "\n",
    "word_lengths = map(calculate_length,word_list)\n",
    "result = list(word_lengths)\n",
    "print(result)"
   ]
  },
  {
   "cell_type": "code",
   "execution_count": 11,
   "id": "1b14693f-0cf2-47f1-9213-2a75db119ef4",
   "metadata": {},
   "outputs": [
    {
     "name": "stdout",
     "output_type": "stream",
     "text": [
      "[6, 8, 10, 12]\n"
     ]
    }
   ],
   "source": [
    "#How can you use the `map()` function to apply a custom function to elements of multiple lists simultaneously in Python?\n",
    "def add_elements(x,y):\n",
    "    return x+y\n",
    "l1 = [1,2,3,4]\n",
    "l2 = [5,6,7,8]\n",
    "\n",
    "result = map(add_elements,l1,l2)\n",
    "result_list = list(result)\n",
    "print(result_list)"
   ]
  },
  {
   "cell_type": "code",
   "execution_count": 5,
   "id": "55926ec8-c019-4f40-867e-58d0bd035066",
   "metadata": {},
   "outputs": [],
   "source": [
    "#Create a Python program that uses `map()` to convert a list of temperatures from Celsius to Fahrenheit.\n",
    "def cel_to_fahrenheit(celsius):\n",
    "    return (celsius * 9/5)+32\n",
    "cel_temp = [0,10,40,36]\n",
    "\n",
    "fah_temp = map("
   ]
  },
  {
   "cell_type": "code",
   "execution_count": 2,
   "id": "8f926a15-52c6-4014-bf09-ba094caea374",
   "metadata": {},
   "outputs": [
    {
     "name": "stdout",
     "output_type": "stream",
     "text": [
      "[3, 3, 2, 5]\n"
     ]
    }
   ],
   "source": [
    "#Write a Python program that uses the `map()` function to round each element of a list of floating-point numbers to the nearest integer.\n",
    "def round_to_int(number):\n",
    "    return round(number)\n",
    "float_num = [3.14,2.718,1.5,4.8]\n",
    "rounded_int = list(map(round_to_int,float_num))\n",
    "print(rounded_int)"
   ]
  },
  {
   "cell_type": "code",
   "execution_count": 11,
   "id": "74e0be36-49b3-4a36-8636-e7f7227b51d3",
   "metadata": {},
   "outputs": [
    {
     "name": "stdout",
     "output_type": "stream",
     "text": [
      "120\n"
     ]
    }
   ],
   "source": [
    "#What is the `reduce()` function in Python, and what module should you import to use it? Provide an example of its basic usage.\n",
    "#Write a Python program that uses the `reduce()` function to find the product of all elements in a list.\n",
    "#reduce() is used for cumulative operationon an iterable,reducing it to single result\n",
    "#for using reduce() functools is a module which is to be imported\n",
    "from functools import reduce\n",
    "numbers = [1, 2, 3, 4, 5]\n",
    "product = reduce(lambda x, y: x * y, numbers)\n",
    "print(product)"
   ]
  },
  {
   "cell_type": "code",
   "execution_count": 1,
   "id": "82ef2078-3c96-4435-9ce9-0b6fe2100c73",
   "metadata": {},
   "outputs": [
    {
     "name": "stdout",
     "output_type": "stream",
     "text": [
      "Max Numbers: 10\n"
     ]
    }
   ],
   "source": [
    "\n",
    "#Create a Python program that uses `reduce()` to find the maximum element in a list of numbers.\n",
    "from functools import reduce\n",
    "numbers = [10,3,5,6,8]\n",
    "max_element = reduce(lambda x,y:x if x>y else y,numbers)\n",
    "print(\"Max Numbers:\",max_element)"
   ]
  },
  {
   "cell_type": "code",
   "execution_count": 5,
   "id": "e0060af5-5e9d-4c24-bbef-189ff6c1495c",
   "metadata": {},
   "outputs": [
    {
     "name": "stdout",
     "output_type": "stream",
     "text": [
      "Concatenate_str Hello,World!\n"
     ]
    }
   ],
   "source": [
    "#How can you use the `reduce()` function to concatenate a list of strings into a single string?\n",
    "from functools import reduce\n",
    "string_list = [\"Hello\",\",\",\"World\",\"!\"]\n",
    "def concatenate_str(x,y):\n",
    "    return x+y\n",
    "result = reduce(concatenate_str,string_list)\n",
    "print(\"Concatenate_str\",result)"
   ]
  },
  {
   "cell_type": "code",
   "execution_count": 6,
   "id": "31f492c2-592f-4ff3-b054-91ea9af34d8c",
   "metadata": {},
   "outputs": [
    {
     "name": "stdin",
     "output_type": "stream",
     "text": [
      "Enter a number to calculate its fact: 6\n"
     ]
    },
    {
     "name": "stdout",
     "output_type": "stream",
     "text": [
      "The factorial of 6 is 720\n"
     ]
    }
   ],
   "source": [
    "#Write a Python program that calculates the factorial of a number using the `reduce()` function.\n",
    "from functools import reduce\n",
    "def calc_fact(n):\n",
    "    num = list(range(1,n+1))\n",
    "    def mul(x,y):\n",
    "        return x*y\n",
    "    fact = reduce(mul,num,1)\n",
    "    return fact\n",
    "n = int(input(\"Enter a number to calculate its fact:\"))\n",
    "result = calc_fact(n)\n",
    "print(f\"The factorial of {n} is {result}\")"
   ]
  },
  {
   "cell_type": "code",
   "execution_count": 11,
   "id": "43392fb2-4d11-4ec8-a436-32088e9ce830",
   "metadata": {},
   "outputs": [
    {
     "name": "stdout",
     "output_type": "stream",
     "text": [
      "The GCD of [24, 36, 48, 60] is 12\n"
     ]
    }
   ],
   "source": [
    "#Create a Python program that uses `reduce()` to find the GCD (Greatest Common Divisor) of a list of numbers.\n",
    "from functools import reduce\n",
    "from math import gcd\n",
    "def calc_gcd(num):\n",
    "    def find_gcd(x,y):\n",
    "        return gcd(x,y)\n",
    "    result = reduce(find_gcd,num)\n",
    "    return result\n",
    "num_list = [24,36,48,60]\n",
    "r = calc_gcd(num_list)\n",
    "print(f\"The GCD of {num_list} is {r}\")"
   ]
  },
  {
   "cell_type": "code",
   "execution_count": 5,
   "id": "a7f8ec12-3397-4af2-8f49-1f83f071f7ed",
   "metadata": {},
   "outputs": [
    {
     "name": "stdin",
     "output_type": "stream",
     "text": [
      "Enter a number to calculate the sum of its digits:  78,90\n"
     ]
    },
    {
     "name": "stdout",
     "output_type": "stream",
     "text": [
      "The sum of digits of 78,90 is 24\n"
     ]
    }
   ],
   "source": [
    "#Write a Python program that uses the `reduce()` function to find the sum of the digits of a given number.\n",
    "from functools import reduce\n",
    "\n",
    "def sum_of_digits(number):\n",
    "    # Remove non-digit characters (e.g., commas) from the input\n",
    "    cleaned_number = ''.join(filter(str.isdigit, str(number)))\n",
    "\n",
    "    # Convert the cleaned number to a list of digits\n",
    "    digits = [int(digit) for digit in cleaned_number]\n",
    "\n",
    "    # Define a binary function for addition\n",
    "    def add_digits(x, y):\n",
    "        return x + y\n",
    "\n",
    "    # Use reduce() to find the sum of all digits\n",
    "    result_sum = reduce(add_digits, digits, 0)\n",
    "\n",
    "    return result_sum\n",
    "\n",
    "# Input: The number for which the sum of digits needs to be calculated\n",
    "num = input(\"Enter a number to calculate the sum of its digits: \")\n",
    "\n",
    "result = sum_of_digits(num)\n",
    "print(f\"The sum of digits of {num} is {result}\")\n"
   ]
  },
  {
   "cell_type": "code",
   "execution_count": 1,
   "id": "5a821aab-c3b6-41d7-8dab-30c7ad09b46c",
   "metadata": {},
   "outputs": [],
   "source": [
    "#Explain the concept of recursion in Python. How does it differ from iteration?\n",
    "#In recursion, the function calls itself in its body to solve the problem, typically breaking into smaller and more manageable sub-problems. In contrast, Iteration is a technique that repetitively executes a code block until the condition is unmet.\n",
    "\n",
    "#Both are used where we need repetition of certain operations, but both are different in the Control Structure, Space Complexity, Performance, etc. "
   ]
  },
  {
   "cell_type": "code",
   "execution_count": 1,
   "id": "7e3ed275-d403-49f3-bedb-5269885cebc5",
   "metadata": {},
   "outputs": [
    {
     "name": "stdin",
     "output_type": "stream",
     "text": [
      "Enter a non-negative integer:  7\n"
     ]
    },
    {
     "name": "stdout",
     "output_type": "stream",
     "text": [
      "Factorial of 7 is 5040\n"
     ]
    }
   ],
   "source": [
    "#Write a Python program to calculate the factorial of a number using recursion.\n",
    "def factorial(n):\n",
    "    if n == 0:\n",
    "        return 1\n",
    "    else:\n",
    "        return n * factorial(n - 1)\n",
    "\n",
    "# Test the function\n",
    "num = int(input(\"Enter a non-negative integer: \"))\n",
    "if num < 0:\n",
    "    print(\"Factorial is not defined for negative numbers.\")\n",
    "else:\n",
    "    print(\"Factorial of\", num, \"is\", factorial(num))\n"
   ]
  },
  {
   "cell_type": "code",
   "execution_count": 1,
   "id": "219fb34a-b78e-419f-86ba-0c0d732345a8",
   "metadata": {},
   "outputs": [
    {
     "name": "stdin",
     "output_type": "stream",
     "text": [
      "Enter a positive integer:  3\n"
     ]
    },
    {
     "name": "stdout",
     "output_type": "stream",
     "text": [
      "The 3 th Fibonacci number is: 1\n"
     ]
    }
   ],
   "source": [
    "#Create a recursive Python function to find the nth Fibonacci number.\n",
    "def fibonacci(n):\n",
    "    if n <= 0:\n",
    "        return \"Invalid input. Please enter a positive integer.\"\n",
    "    elif n == 1:\n",
    "        return 0\n",
    "    elif n == 2:\n",
    "        return 1\n",
    "    else:\n",
    "        return fibonacci(n - 1) + fibonacci(n - 2)\n",
    "\n",
    "# Test the function\n",
    "num = int(input(\"Enter a positive integer: \"))\n",
    "print(\"The\", num, \"th Fibonacci number is:\", fibonacci(num))\n"
   ]
  },
  {
   "cell_type": "code",
   "execution_count": 6,
   "id": "35b2f2e3-0fca-462f-8eb1-2344f77070f1",
   "metadata": {},
   "outputs": [
    {
     "name": "stdout",
     "output_type": "stream",
     "text": [
      "sum of all elements 10\n"
     ]
    }
   ],
   "source": [
    "#Write a recursive Python function to calculate the sum of all elements in a list.\n",
    "def rec_sum(lst):\n",
    "    if len(lst)==0:\n",
    "        return 0\n",
    "    else:\n",
    "            return lst[0] + rec_sum(lst[1:])\n",
    "my_list = [1,2,3,4]\n",
    "print(\"sum of all elements\" , rec_sum(my_list))\n",
    "\n"
   ]
  },
  {
   "cell_type": "code",
   "execution_count": 8,
   "id": "91404f5f-6316-4422-aca9-22d2b2b08be7",
   "metadata": {},
   "outputs": [],
   "source": [
    "#How can you prevent a recursive function from running indefinitely, causing a stack overflow error?\n",
    "\n",
    "#Ensure there's a base case that stops recursion.\n",
    "#Make sure each recursive call progresses towards the base case.\n",
    "#Avoid deep recursion or use iteration when recursion depth is a concern.\n"
   ]
  },
  {
   "cell_type": "code",
   "execution_count": 9,
   "id": "5c143cd4-bdbd-4d73-b622-7845393311b1",
   "metadata": {},
   "outputs": [
    {
     "name": "stdout",
     "output_type": "stream",
     "text": [
      "gcd of 48 and 18 is: 6\n"
     ]
    }
   ],
   "source": [
    "#Create a recursive Python function to find the greatest common divisor (GCD) of two numbers using the Euclidean algorithm.\n",
    "def gcd(a,b):\n",
    "    if b==0:\n",
    "        return a\n",
    "    else:\n",
    "        return gcd(b,a%b)\n",
    "    \n",
    "num1 = 48\n",
    "num2 = 18\n",
    "print(\"gcd of\",num1,\"and\",num2,\"is:\",gcd(num1,num2))"
   ]
  },
  {
   "cell_type": "code",
   "execution_count": 11,
   "id": "921674fd-3bc1-47c0-9858-7693490b1212",
   "metadata": {},
   "outputs": [
    {
     "name": "stdout",
     "output_type": "stream",
     "text": [
      "original_str hello\n",
      "reverse string hello\n"
     ]
    }
   ],
   "source": [
    "#Write a recursive Python function to reverse a string.\n",
    "def rev_str(s):\n",
    "    if len(s):\n",
    "        return s\n",
    "    else:\n",
    "        return rev_str(s[1:]+0)\n",
    "    \n",
    "original_str = \"hello\"\n",
    "reve_str = rev_str(original_str)\n",
    "print(\"original_str\",original_str)\n",
    "print(\"reverse string\",reve_str)"
   ]
  },
  {
   "cell_type": "code",
   "execution_count": 4,
   "id": "981e73e6-88b7-4e0c-8981-5392c594dceb",
   "metadata": {},
   "outputs": [
    {
     "name": "stdout",
     "output_type": "stream",
     "text": [
      "8\n"
     ]
    }
   ],
   "source": [
    "#Create a recursive Python function to calculate the power of a number (x^n).\n",
    "def power(x,n):\n",
    "    if n== 0:\n",
    "        return 1\n",
    "    temp = power(x,n//2)\n",
    "    if n%2==0:\n",
    "        return temp*temp\n",
    "    else:\n",
    "        return temp*temp*x\n",
    "print(power(2,3))\n"
   ]
  },
  {
   "cell_type": "code",
   "execution_count": 5,
   "id": "4b0cecaa-22ad-44fc-a3e6-e475c95f682c",
   "metadata": {},
   "outputs": [
    {
     "name": "stdout",
     "output_type": "stream",
     "text": [
      "['abc', 'acb', 'bac', 'bca', 'cab', 'cba']\n"
     ]
    }
   ],
   "source": [
    "#Write a recursive Python function to find all permutations of a given string.\n",
    "def permute(string):\n",
    "    # Base case: if the string is empty or has only one character, return it as a single permutation\n",
    "    if len(string) <= 1:\n",
    "        return [string]\n",
    "\n",
    "    # List to store permutations\n",
    "    permutations = []\n",
    "\n",
    "    # Iterate over each character in the string\n",
    "    for i in range(len(string)):\n",
    "        # Extract the current character\n",
    "        char = string[i]\n",
    "\n",
    "        # Generate all permutations of the string without the current character\n",
    "        remaining_chars = string[:i] + string[i+1:]\n",
    "        sub_permutations = permute(remaining_chars)\n",
    "\n",
    "        # Append the current character to each permutation of the remaining characters\n",
    "        for sub_permutation in sub_permutations:\n",
    "            permutations.append(char + sub_permutation)\n",
    "\n",
    "    return permutations\n",
    "\n",
    "# Example usage:\n",
    "input_string = \"abc\"\n",
    "print(permute(input_string))\n",
    "\n"
   ]
  },
  {
   "cell_type": "code",
   "execution_count": 6,
   "id": "6d3ebd59-920c-4dd2-b059-94c1372f9bf1",
   "metadata": {},
   "outputs": [
    {
     "name": "stdout",
     "output_type": "stream",
     "text": [
      "True\n",
      "False\n"
     ]
    }
   ],
   "source": [
    "#Write a recursive Python function to check if a string is a palindrome.\n",
    "def is_palindrome(s):\n",
    "    # Base case: if the string has 0 or 1 characters, it's a palindrome\n",
    "    if len(s) <= 1:\n",
    "        return True\n",
    "    # Recursive case: check if the first and last characters are the same\n",
    "    if s[0] != s[-1]:\n",
    "        return False\n",
    "    # If the first and last characters are the same, recursively check the substring without those characters\n",
    "    return is_palindrome(s[1:-1])\n",
    "\n",
    "# Example usage:\n",
    "print(is_palindrome(\"radar\"))  # Output: True\n",
    "print(is_palindrome(\"hello\"))  # Output: False\n"
   ]
  },
  {
   "cell_type": "code",
   "execution_count": 7,
   "id": "c65eea4d-dac2-45ee-a8f0-399aaaaff915",
   "metadata": {},
   "outputs": [
    {
     "name": "stdout",
     "output_type": "stream",
     "text": [
      "[[3, 2, 1], [3, 2], [3, 1], [3], [2, 1], [2], [1], []]\n"
     ]
    }
   ],
   "source": [
    "#Create a recursive Python function to generate all possible combinations of a list of elements.\n",
    "def generate_combinations(elements):\n",
    "    if len(elements) == 0:\n",
    "        return [[]]  # Base case: return a list containing an empty list\n",
    "\n",
    "    first_element = elements[0]  # Select the first element\n",
    "    rest_of_elements = elements[1:]  # Get the rest of the elements\n",
    "\n",
    "    # Recursively generate combinations without the first element\n",
    "    combinations_without_first = generate_combinations(rest_of_elements)\n",
    "\n",
    "    # For each combination generated without the first element,\n",
    "    # generate two new combinations: one with the first element included and one without it\n",
    "    combinations_with_first = []\n",
    "    for combination in combinations_without_first:\n",
    "        combinations_with_first.append(combination + [first_element])  # Include the first element\n",
    "        combinations_with_first.append(combination)  # Exclude the first element\n",
    "\n",
    "    return combinations_with_first\n",
    "\n",
    "# Example usage:\n",
    "elements = [1, 2, 3]\n",
    "print(generate_combinations(elements))\n",
    "\n"
   ]
  },
  {
   "cell_type": "code",
   "execution_count": 8,
   "id": "4a4773a8-f93e-4be4-85e4-4cf7f7c47847",
   "metadata": {},
   "outputs": [],
   "source": [
    "#What is a function in Python, and why is it used?\n",
    "\n",
    "\n",
    "#In Python, a function is a block of reusable code that performs a specific task. \n",
    "#Functions are defined using the def keyword, followed by the function name and parameters (if any), and then a block of code that defines what the function does. \n",
    "#Functions can take inputs (arguments) and optionally return an output.\n",
    "#functions used for several reasons such as modularity,reusability,abstraction,readability,encapsulation"
   ]
  },
  {
   "cell_type": "code",
   "execution_count": 9,
   "id": "2171efc1-f60e-421b-adc3-51da74a5cd4a",
   "metadata": {},
   "outputs": [
    {
     "name": "stdout",
     "output_type": "stream",
     "text": [
      "Square of 5 is: 25\n"
     ]
    }
   ],
   "source": [
    "#How do you define a function in Python? Provide an example.\n",
    "\n",
    "\n",
    "#In Python, you can define a function using the def keyword followed by the function name, parameters (if any), and a colon (:)\n",
    "\n",
    "def square(number):\n",
    "    \"\"\"Function to calculate the square of a number.\"\"\"\n",
    "    return number ** 2\n",
    "\n",
    "# Example usage:\n",
    "result = square(5)\n",
    "print(\"Square of 5 is:\", result)\n"
   ]
  },
  {
   "cell_type": "code",
   "execution_count": 13,
   "id": "3aecb119-f61a-4919-882c-1fa51abab3f9",
   "metadata": {},
   "outputs": [
    {
     "data": {
      "text/plain": [
       "\"A function call is where you actually invoke or execute a function that has been defined previously. When you call a function, you're instructing Python to run the code within that function and potentially return a result.\\nFunction calls include the function name followed by parentheses () containing any arguments (if required) that are passed to the function.\\nWhen you call a function, you're using the functionality defined in the function to perform a specific task at that point in your code.\""
      ]
     },
     "execution_count": 13,
     "metadata": {},
     "output_type": "execute_result"
    }
   ],
   "source": [
    "#Explain the difference between a function definition and a function call.\n",
    "\n",
    "#Function Definition:\n",
    "\n",
    "\"\"\"A function definition is where you define the structure and behavior of a function. \n",
    "This includes specifying the function name, parameters (if any), and the code block that defines what the function does.\n",
    "When you define a function, you're essentially creating a blueprint or template for performing a specific task.\n",
    "Function definitions start with the def keyword followed by the function name, parameters (if any), and a colon (:).\n",
    "The function body is then indented and contains the code that defines the functionality of the function.\"\"\"\n",
    "\n",
    "#Function Call:\n",
    "\"\"\"A function call is where you actually invoke or execute a function that has been defined previously. When you call a function, you're instructing Python to run the code within that function and potentially return a result.\n",
    "Function calls include the function name followed by parentheses () containing any arguments (if required) that are passed to the function.\n",
    "When you call a function, you're using the functionality defined in the function to perform a specific task at that point in your code.\"\"\""
   ]
  },
  {
   "cell_type": "code",
   "execution_count": 14,
   "id": "303f2f27-4a1a-458a-85fa-886f0885e539",
   "metadata": {},
   "outputs": [
    {
     "name": "stdout",
     "output_type": "stream",
     "text": [
      "The sum of 3 and 5 is: 8\n"
     ]
    }
   ],
   "source": [
    "def calculate_sum(num1, num2):\n",
    "    \"\"\"Function to calculate the sum of two numbers.\"\"\"\n",
    "    return num1 + num2\n",
    "\n",
    "# Function call\n",
    "result = calculate_sum(3, 5)\n",
    "\n",
    "# Print the result\n",
    "print(\"The sum of 3 and 5 is:\", result)\n"
   ]
  },
  {
   "cell_type": "code",
   "execution_count": 15,
   "id": "ea359eef-9772-4447-803a-e09da5da7e50",
   "metadata": {},
   "outputs": [
    {
     "name": "stdout",
     "output_type": "stream",
     "text": [
      "The product of 3 and 5 is: 15\n"
     ]
    }
   ],
   "source": [
    "##What is a function signature, and what information does it typically include?\n",
    "\n",
    "#A function signature is include function name,parameters,return type  while some optionals like acess modifier,exception handline,name spaces.\n",
    "def product(x, y):\n",
    "    \"\"\"Function to calculate the product of two numbers.\"\"\"\n",
    "    return x * y\n",
    "\n",
    "# Example usage:\n",
    "result = product(3, 5)\n",
    "print(\"The product of 3 and 5 is:\", result)\n"
   ]
  },
  {
   "cell_type": "code",
   "execution_count": 16,
   "id": "927ea016-f55e-467b-bdf2-b17014580801",
   "metadata": {},
   "outputs": [
    {
     "data": {
      "text/plain": [
       "'Formal Parameters: Variables defined inside the parentheses of a function definition, acting as placeholders for values to be supplied when the function is called. \\nThey specify what inputs the function expects.\\n\\nActual Arguments: Values provided to a function when it is called, corresponding to the formal parameters. They are the actual values on which the function operates.'"
      ]
     },
     "execution_count": 16,
     "metadata": {},
     "output_type": "execute_result"
    }
   ],
   "source": [
    "#Explain the concepts of formal parameters and actual arguments in Python functions.\n",
    "\n",
    "\"\"\"Formal Parameters: Variables defined inside the parentheses of a function definition, acting as placeholders for values to be supplied when the function is called. \n",
    "They specify what inputs the function expects.\n",
    "\n",
    "Actual Arguments: Values provided to a function when it is called, corresponding to the formal parameters. They are the actual values on which the function operates.\"\"\""
   ]
  },
  {
   "cell_type": "code",
   "execution_count": 17,
   "id": "55b4de78-5eea-44ba-9fbf-867b219ec8d5",
   "metadata": {},
   "outputs": [
    {
     "name": "stdout",
     "output_type": "stream",
     "text": [
      "Hello, Guest\n",
      "Hello, Alice\n"
     ]
    }
   ],
   "source": [
    "#Write a Python program that defines a function with default argument values.\n",
    "\n",
    "def greet(name=\"Guest\"):\n",
    "    \"\"\"Function to greet a person.\"\"\"\n",
    "    print(\"Hello,\", name)\n",
    "\n",
    "# Example usage:\n",
    "greet()  # Output: Hello, Guest\n",
    "greet(\"Alice\")  # Output: Hello, Alice\n"
   ]
  },
  {
   "cell_type": "code",
   "execution_count": 1,
   "id": "d3556583-f207-4361-a3ce-6da9e6593277",
   "metadata": {},
   "outputs": [
    {
     "name": "stdout",
     "output_type": "stream",
     "text": [
      "Hello, Alice !\n",
      "You are 30 years old.\n"
     ]
    }
   ],
   "source": [
    "#How do you use keyword arguments in Python function calls? Provide an example.\n",
    "def greet(name, age):\n",
    "    print(\"Hello,\", name, \"!\")\n",
    "    print(\"You are\", age, \"years old.\")\n",
    "\n",
    "# Calling the function using keyword arguments\n",
    "greet(name=\"Alice\", age=30)\n",
    "\n"
   ]
  },
  {
   "cell_type": "code",
   "execution_count": 2,
   "id": "18974529-59f8-4abb-b0a2-3fa793ff4da1",
   "metadata": {},
   "outputs": [
    {
     "name": "stdout",
     "output_type": "stream",
     "text": [
      "15\n",
      "60\n"
     ]
    }
   ],
   "source": [
    "#Create a Python function that accepts a variable number of arguments and calculates their sum.\n",
    "def calculate_sum(*args):\n",
    "    \"\"\"Calculates the sum of a variable number of arguments.\n",
    "\n",
    "    Args:\n",
    "        *args: A variable number of arguments to be summed.\n",
    "\n",
    "    Returns:\n",
    "        The sum of the arguments.\n",
    "    \"\"\"\n",
    "\n",
    "    result = 0\n",
    "    for arg in args:\n",
    "        result += arg\n",
    "    return result\n",
    "sum1 = calculate_sum(1, 2, 3, 4, 5)\n",
    "print(sum1)  \n",
    "\n",
    "sum2 = calculate_sum(10, 20, 30)\n",
    "print(sum2)  "
   ]
  },
  {
   "cell_type": "code",
   "execution_count": 3,
   "id": "cd7252ad-3eb5-4086-806b-519ee734c37f",
   "metadata": {},
   "outputs": [
    {
     "name": "stdout",
     "output_type": "stream",
     "text": [
      "1\n",
      "2\n",
      "name Aly\n",
      "age 30\n",
      "city New mumbai\n"
     ]
    }
   ],
   "source": [
    "#What is the purpose of the `*args` and `**kwargs` syntax in function parameter lists?\n",
    "def my_function(*args):\n",
    "    for arg in args:\n",
    "        print(arg)\n",
    "\n",
    "my_function(1, 2)  \n",
    "\n",
    "def my_other_function(**kwargs):\n",
    "    for key, value in kwargs.items():\n",
    "        print(key, value)\n",
    "\n",
    "my_other_function(name=\"Aly\", age=30, city=\"New mumbai\")\n"
   ]
  },
  {
   "cell_type": "code",
   "execution_count": 10,
   "id": "2f04a6bc-c5b1-471b-b575-7dd128d2ebcd",
   "metadata": {},
   "outputs": [
    {
     "data": {
      "text/plain": [
       "'The return statement in Python functions is used to:\\n\\nEnd the execution of a function: When a return statement is encountered, the function terminates immediately, regardless of any code that follows it.\\nReturn a value to the caller: The return statement can optionally be followed by an expression. The value of this expression is returned to the part of the code\\nthat called the function. This value can then be used in subsequent calculations or assignments.'"
      ]
     },
     "execution_count": 10,
     "metadata": {},
     "output_type": "execute_result"
    }
   ],
   "source": [
    "#Describe the role of the `return` statement in Python functions and provide examples.\n",
    "\"\"\"The return statement in Python functions is used to:\n",
    "\n",
    "End the execution of a function: When a return statement is encountered, the function terminates immediately, regardless of any code that follows it.\n",
    "Return a value to the caller: The return statement can optionally be followed by an expression. The value of this expression is returned to the part of the code\n",
    "that called the function. This value can then be used in subsequent calculations or assignments.\"\"\"\n",
    "\n",
    "\n"
   ]
  },
  {
   "cell_type": "code",
   "execution_count": 12,
   "id": "5d320276-f736-4c19-9993-b9436b5e169e",
   "metadata": {},
   "outputs": [
    {
     "data": {
      "text/plain": [
       "'Variable scope in Python refers to the region of code where a variable is accessible. There are two main types of variable scope:\\n\\nLocal variables: Variables defined within a function have local scope. They are only accessible within the function itself and are not visible outside of it. When the function ends, local variables are destroyed.\\nGlobal variables: Variables defined outside of any function have global scope. They can be accessed from anywhere within the program, including inside functions.'"
      ]
     },
     "execution_count": 12,
     "metadata": {},
     "output_type": "execute_result"
    }
   ],
   "source": [
    "#Explain the concept of variable scope in Python, including local and global variables.\n",
    "\"\"\"Variable scope in Python refers to the region of code where a variable is accessible. There are two main types of variable scope:\n",
    "\n",
    "Local variables: Variables defined within a function have local scope. They are only accessible within the function itself and are not visible outside of it. When the function ends, local variables are destroyed.\n",
    "Global variables: Variables defined outside of any function have global scope. They can be accessed from anywhere within the program, including inside functions.\"\"\""
   ]
  },
  {
   "cell_type": "code",
   "execution_count": 6,
   "id": "33dd450a-f4ce-4269-9d46-009f16032d37",
   "metadata": {},
   "outputs": [
    {
     "name": "stdout",
     "output_type": "stream",
     "text": [
      "15\n"
     ]
    }
   ],
   "source": [
    "#Write a Python program that demonstrates the use of global variables within functions.\n",
    "global_variable = 10\n",
    "\n",
    "def modify_global():\n",
    "    global global_variable\n",
    "    global_variable += 5\n",
    "\n",
    "modify_global()\n",
    "print(global_variable) "
   ]
  },
  {
   "cell_type": "code",
   "execution_count": 7,
   "id": "c632501f-417f-41d4-bdec-1e231834c13f",
   "metadata": {},
   "outputs": [
    {
     "name": "stdout",
     "output_type": "stream",
     "text": [
      "120\n"
     ]
    }
   ],
   "source": [
    "#Create a Python function that calculates the factorial of a number and returns it.\n",
    "def factorial(n):\n",
    "    if n == 0:\n",
    "        return 1\n",
    "    else:\n",
    "        return n * factorial(n - 1)\n",
    "\n",
    "result = factorial(5)\n",
    "print(result)  "
   ]
  },
  {
   "cell_type": "code",
   "execution_count": 13,
   "id": "0e3ccd17-d9e6-4321-abec-3a17158bdfb1",
   "metadata": {},
   "outputs": [
    {
     "data": {
      "text/plain": [
       "'To access variables defined outside a function from within the function, you can simply use the variable name directly.\\nHowever, if you need to modify the variable within the function, you must use the global keyword to explicitly indicate \\nthat you are referring to the global variable.'"
      ]
     },
     "execution_count": 13,
     "metadata": {},
     "output_type": "execute_result"
    }
   ],
   "source": [
    "#How can you access variables defined outside a function from within the function?\n",
    "\"\"\"To access variables defined outside a function from within the function, you can simply use the variable name directly.\n",
    "However, if you need to modify the variable within the function, you must use the global keyword to explicitly indicate \n",
    "that you are referring to the global variable.\"\"\""
   ]
  },
  {
   "cell_type": "code",
   "execution_count": 15,
   "id": "baad738e-1755-457e-a7ba-f1566bc57d39",
   "metadata": {},
   "outputs": [
    {
     "data": {
      "text/plain": [
       "\"List comprehensions: Lambda functions can be used as the expression within list comprehensions to create new lists based on existing ones.\\nFunction arguments: Lambda functions can be passed as arguments to other functions, especially those that require a function as input.\\nSorting and filtering: Lambda functions can be used with built-in functions like sorted and filter to customize sorting and filtering criteria.\\nTemporary functions: When you need a simple function for a one-time use and don't want to define a full-fledged named function.\""
      ]
     },
     "execution_count": 15,
     "metadata": {},
     "output_type": "execute_result"
    }
   ],
   "source": [
    "#What are lambda functions in Python, and when are they typically used?\n",
    "\"lambda arguments: expression\"\n",
    "\"\"\"arguments: A comma-separated list of arguments.\n",
    "expression: The expression to be evaluated and returned.\"\"\"\n",
    "\n",
    "\n",
    "\"\"\"List comprehensions: Lambda functions can be used as the expression within list comprehensions to create new lists based on existing ones.\n",
    "Function arguments: Lambda functions can be passed as arguments to other functions, especially those that require a function as input.\n",
    "Sorting and filtering: Lambda functions can be used with built-in functions like sorted and filter to customize sorting and filtering criteria.\n",
    "Temporary functions: When you need a simple function for a one-time use and don't want to define a full-fledged named function.\"\"\"\n"
   ]
  },
  {
   "cell_type": "code",
   "execution_count": 16,
   "id": "ce9bb3bd-940f-4aad-b75b-514f9332217d",
   "metadata": {},
   "outputs": [
    {
     "name": "stdout",
     "output_type": "stream",
     "text": [
      "[(1, 'apple'), (3, 'banana'), (2, 'orange')]\n"
     ]
    }
   ],
   "source": [
    "#Write a Python program that uses lambda functions to sort a list of tuples based on the second element.\n",
    "tuples = [(1, 'apple'), (3, 'banana'), (2, 'orange')]\n",
    "sorted_tuples = sorted(tuples, key=lambda x: x[1])\n",
    "\n",
    "print(sorted_tuples) "
   ]
  },
  {
   "cell_type": "code",
   "execution_count": 19,
   "id": "119f42cb-d98b-43cb-8ed5-a425a25c37a7",
   "metadata": {},
   "outputs": [
    {
     "name": "stdout",
     "output_type": "stream",
     "text": [
      "[2, 4, 6, 8, 10]\n"
     ]
    }
   ],
   "source": [
    "#Explain the concept of higher-order functions in Python, and provide an example.\n",
    "#Create a Python function that takes a list of numbers and a function as arguments, applying the function to each element in the list.\n",
    "\"\"\"Higher-order functions are functions that can take other functions as arguments or return functions as results. They are a powerful tool \n",
    "in functional programming, allowing for more flexible and expressive code\"\"\"\n",
    "numbers = [1, 2, 3, 4, 5]\n",
    "\n",
    "# Double each number using a lambda function\n",
    "doubled_numbers = list(map(lambda x: x * 2, numbers))\n",
    "\n",
    "print(doubled_numbers)  # Output: [2, 4, 6, 8, 10]"
   ]
  },
  {
   "cell_type": "code",
   "execution_count": 1,
   "id": "6d6911aa-0c09-40ae-903f-09b88e507e5a",
   "metadata": {},
   "outputs": [
    {
     "name": "stdout",
     "output_type": "stream",
     "text": [
      "Length of the list: 5\n",
      "Maximum value: 42\n",
      "Minimum character:  \n"
     ]
    }
   ],
   "source": [
    "#Describe the role of built-in functions like `len()`, `max()`, and `min()` in Python.\n",
    "\"\"\"len(): Returns the length of a sequence (e.g., list, tuple, string).\n",
    "max(): Returns the largest item in a sequence.\n",
    "min(): Returns the smallest item in a sequence.\"\"\"\n",
    "\n",
    "\n",
    "\n",
    "my_list = [1, 2, 3, 4, 5]\n",
    "length = len(my_list)\n",
    "print(\"Length of the list:\", length)  \n",
    "\n",
    "numbers = [10, 25, 7, 42, 18]\n",
    "maximum = max(numbers)\n",
    "print(\"Maximum value:\", maximum) \n",
    "my_string = \"Hello, world!\"\n",
    "minimum = min(my_string)\n",
    "print(\"Minimum character:\", minimum) "
   ]
  },
  {
   "cell_type": "code",
   "execution_count": 2,
   "id": "a57765ca-2dfc-4151-88c4-a48eff8ec066",
   "metadata": {},
   "outputs": [
    {
     "name": "stdout",
     "output_type": "stream",
     "text": [
      "[1, 4, 9, 16, 25]\n"
     ]
    }
   ],
   "source": [
    "#Write a Python program that uses the `map()` function to apply a function to each element of a list.\n",
    "def square(x):\n",
    "  \"\"\"Squares a number.\"\"\"\n",
    "  return x * x\n",
    "\n",
    "numbers = [1, 2, 3, 4, 5]\n",
    "\n",
    "squared_numbers = list(map(square, numbers))\n",
    "\n",
    "print(squared_numbers) "
   ]
  },
  {
   "cell_type": "code",
   "execution_count": 3,
   "id": "4ccaf90a-d2be-424f-9e62-4fa8be014bd2",
   "metadata": {},
   "outputs": [
    {
     "name": "stdout",
     "output_type": "stream",
     "text": [
      "[2, 4]\n"
     ]
    }
   ],
   "source": [
    "#How does the `filter()` function work in Python, and when would you use it?\n",
    "\"\"\"The filter() function in Python is a built-in function that filters elements from an iterable (like a list or tuple) based on a given \n",
    "predicate function. The predicate function should take one element as input and return a boolean value. If the predicate function returns\n",
    "True for an element, it will be included in the filtered result.\"\"\"\n",
    "numbers = [1, 2, 3, 4, 5]\n",
    "\n",
    "# Filter even numbers\n",
    "even_numbers = list(filter(lambda x: x % 2 == 0, numbers))\n",
    "\n",
    "print(even_numbers)  # Output: [2, 4]\n",
    "\"\"\"When you need to extract elements from an iterable based on a specific condition.\n",
    "When you want to create a new iterable containing only the elements that satisfy a certain criteria.\n",
    "When you need to perform a filtering operation on a large dataset.\"\"\""
   ]
  },
  {
   "cell_type": "code",
   "execution_count": 5,
   "id": "ecc35705-c5b8-45c9-acec-a38515f300fe",
   "metadata": {},
   "outputs": [
    {
     "name": "stdout",
     "output_type": "stream",
     "text": [
      "Product: 120\n"
     ]
    }
   ],
   "source": [
    "#Create a Python program that uses the `reduce()` function to find the product of all elements in a list.\n",
    "from functools import reduce\n",
    "\n",
    "numbers = [1, 2, 3, 4, 5]\n",
    "\n",
    "product = reduce(lambda x, y: x * y, numbers)\n",
    "\n",
    "print(\"Product:\", product)  # Output: Product: 120"
   ]
  },
  {
   "cell_type": "code",
   "execution_count": 6,
   "id": "a76c9479-2dea-4111-be54-e5087a73aa3c",
   "metadata": {},
   "outputs": [
    {
     "data": {
      "text/plain": [
       "'Explanation: Docstrings provide a clear and concise explanation of what the entity does, its parameters, and the return value.\\nDocumentation: They are used by tools like Sphinx to generate automated documentation for your code.\\nReadability: They improve code readability by making it easier for others (and your future self) to understand the purpose and usage of the code\\n\\nhow to write them:\\n\\nUse triple quotes: Enclose the docstring in triple quotes \\nStart with a brief description: Begin with a one-line summary that describes the purpose of the entity.\\nDetail parameters: List and describe each parameter, including their data types and expected values.\\nDescribe the return value: Explain what the function or method returns, including its data type.\\nHandle exceptions: If applicable, document any exceptions that might be raised.'"
      ]
     },
     "execution_count": 6,
     "metadata": {},
     "output_type": "execute_result"
    }
   ],
   "source": [
    "#Explain the purpose of docstrings in Python functions and how to write them.\n",
    "\"\"\"Explanation: Docstrings provide a clear and concise explanation of what the entity does, its parameters, and the return value.\n",
    "Documentation: They are used by tools like Sphinx to generate automated documentation for your code.\n",
    "Readability: They improve code readability by making it easier for others (and your future self) to understand the purpose and usage of the code\n",
    "\n",
    "how to write them:\n",
    "\n",
    "Use triple quotes: Enclose the docstring in triple quotes \n",
    "Start with a brief description: Begin with a one-line summary that describes the purpose of the entity.\n",
    "Detail parameters: List and describe each parameter, including their data types and expected values.\n",
    "Describe the return value: Explain what the function or method returns, including its data type.\n",
    "Handle exceptions: If applicable, document any exceptions that might be raised.\"\"\""
   ]
  },
  {
   "cell_type": "code",
   "execution_count": 7,
   "id": "2494f010-ba52-4fd4-83d0-56f62cc4e831",
   "metadata": {},
   "outputs": [
    {
     "data": {
      "text/plain": [
       "'Effective naming in Python is crucial for code readability and maintainability. Here are some best practices to follow:\\n\\nNaming Conventions\\nSnake Case: Use underscores to separate words in variable and function names (e.g., my_variable, calculate_area). This is the most common convention in Python.\\nPascal Case: Capitalize the first letter of each word in class names (e.g., MyClass).\\nGuidelines\\nMeaningful Names: Choose names that clearly convey the purpose of the variable or function. Avoid generic names like x, y, or temp.\\nConsistency: Use consistent naming conventions throughout your codebase. This makes it easier to read and understand.\\nBe Descriptive: The name should be descriptive enough to understand its purpose without needing to refer to the code.\\nAvoid Abbreviations: While abbreviations can save space, they can also make code harder to read. Use abbreviations only when they are widely understood and unambiguous.\\nUse Verbs for Functions: Function names should typically be verbs that describe the action the function performs (e.g., calculate_area, get_user_input).\\nUse Nouns for Variables: Variable names should typically be nouns that represent the data they store (e.g., age, name, customer_list).\\nAvoid Single-Letter Variables: Unless the variable is a simple loop counter or has a well-established convention (like i for indices), avoid using single-letter variables.\\nUse Plurals for Lists: If a variable is a list of items, consider using the plural form of the noun (e.g., customer_list).'"
      ]
     },
     "execution_count": 7,
     "metadata": {},
     "output_type": "execute_result"
    }
   ],
   "source": [
    "#Describe some best practices for naming functions and variables in Python, including naming conventions and guidelines.\n",
    "\"\"\"Effective naming in Python is crucial for code readability and maintainability. Here are some best practices to follow:\n",
    "\n",
    "Naming Conventions\n",
    "Snake Case: Use underscores to separate words in variable and function names (e.g., my_variable, calculate_area). This is the most common convention in Python.\n",
    "Pascal Case: Capitalize the first letter of each word in class names (e.g., MyClass).\n",
    "Guidelines\n",
    "Meaningful Names: Choose names that clearly convey the purpose of the variable or function. Avoid generic names like x, y, or temp.\n",
    "Consistency: Use consistent naming conventions throughout your codebase. This makes it easier to read and understand.\n",
    "Be Descriptive: The name should be descriptive enough to understand its purpose without needing to refer to the code.\n",
    "Avoid Abbreviations: While abbreviations can save space, they can also make code harder to read. Use abbreviations only when they are widely understood and unambiguous.\n",
    "Use Verbs for Functions: Function names should typically be verbs that describe the action the function performs (e.g., calculate_area, get_user_input).\n",
    "Use Nouns for Variables: Variable names should typically be nouns that represent the data they store (e.g., age, name, customer_list).\n",
    "Avoid Single-Letter Variables: Unless the variable is a simple loop counter or has a well-established convention (like i for indices), avoid using single-letter variables.\n",
    "Use Plurals for Lists: If a variable is a list of items, consider using the plural form of the noun (e.g., customer_list).\"\"\""
   ]
  },
  {
   "cell_type": "code",
   "execution_count": null,
   "id": "37516a91-5483-4a04-a6fd-7e95a4258c0f",
   "metadata": {},
   "outputs": [],
   "source": []
  }
 ],
 "metadata": {
  "kernelspec": {
   "display_name": "Python 3 (ipykernel)",
   "language": "python",
   "name": "python3"
  },
  "language_info": {
   "codemirror_mode": {
    "name": "ipython",
    "version": 3
   },
   "file_extension": ".py",
   "mimetype": "text/x-python",
   "name": "python",
   "nbconvert_exporter": "python",
   "pygments_lexer": "ipython3",
   "version": "3.10.8"
  }
 },
 "nbformat": 4,
 "nbformat_minor": 5
}
